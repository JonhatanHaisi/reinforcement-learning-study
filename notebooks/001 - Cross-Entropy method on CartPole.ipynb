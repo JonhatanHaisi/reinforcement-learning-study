{
 "cells": [
  {
   "cell_type": "markdown",
   "metadata": {},
   "source": [
    "# Reinforcement Learning - Cross-Entropy Method"
   ]
  },
  {
   "cell_type": "markdown",
   "metadata": {},
   "source": [
    "## What is Cross-Entropy?"
   ]
  },
  {
   "cell_type": "markdown",
   "metadata": {},
   "source": [
    "Cross-Entropy is a way to measure how different two probability distributions are. Imagine you have a model that makes predictions, and you want to see how close these predictions are to the actual outcomes. Cross-Entropy gives a number that tells you how good your model is. A lower cross-entropy means your model's predictions are better.\n",
    "\n",
    "**Simple Example:**\n",
    "\n",
    "* Think of predicting the weather. If you say there's a 70% chance of rain and it actually rains, your prediction is pretty good. Cross-Entropy helps measure how accurate such predictions are."
   ]
  },
  {
   "cell_type": "markdown",
   "metadata": {},
   "source": [
    "## How Does RL Use Cross-Entropy?"
   ]
  },
  {
   "cell_type": "markdown",
   "metadata": {},
   "source": [
    "In Reinforcement Learning (RL), an agent learns to make decisions by performing actions and receiving rewards. When RL uses Cross-Entropy, it helps the agent improve its actions based on past experiences.\n",
    "\n",
    "**How It Works:**\n",
    "\n",
    "* The agent tries different actions in an environment.\n",
    "* It records which actions lead to good rewards.\n",
    "* Using Cross-Entropy, it focuses more on the actions that gave better rewards.\n",
    "* Over time, the agent gets better at choosing actions that maximize rewards."
   ]
  },
  {
   "cell_type": "markdown",
   "metadata": {},
   "source": [
    "## General Step-by-Step Process"
   ]
  },
  {
   "cell_type": "markdown",
   "metadata": {},
   "source": [
    "Here’s a simple step-by-step guide on how RL with Cross-Entropy works:\n",
    "\n",
    "1. **Initialize:** Start with a random policy (a set of rules the agent follows to decide actions).\n",
    "2. **Generate Episodes:** Let the agent perform actions in the environment to create episodes (sequences of states, actions, and rewards).\n",
    "3. **Evaluate:** Calculate the total rewards for each episode.\n",
    "Select Top Performers: Choose the best-performing episodes based on their rewards.\n",
    "4. **Update Policy:** Use Cross-Entropy to update the policy, making it more likely to choose actions that led to high rewards.\n",
    "5. **Repeat:** Go back to step 2 and repeat the process until the agent performs well."
   ]
  },
  {
   "cell_type": "markdown",
   "metadata": {},
   "source": [
    "## Additional Information"
   ]
  },
  {
   "cell_type": "markdown",
   "metadata": {},
   "source": [
    "* Advantages:\n",
    "    * Simplicity: The Cross-Entropy method is straightforward and easy to implement.\n",
    "    * Efficiency: It can find good solutions with fewer trials compared to other methods.\n",
    "\n",
    "\n",
    "* Applications:\n",
    "    * Robotics (teaching robots to perform tasks)\n",
    "    * Game Playing (like training agents to play video games)\n",
    "    * Optimization Problems (finding the best solutions in complex scenarios)"
   ]
  },
  {
   "cell_type": "markdown",
   "metadata": {},
   "source": [
    "# Initial Environment Setup"
   ]
  },
  {
   "cell_type": "code",
   "execution_count": 1,
   "metadata": {},
   "outputs": [],
   "source": [
    "# Ignore warnings\n",
    "import warnings\n",
    "warnings.filterwarnings(\"ignore\")"
   ]
  },
  {
   "cell_type": "markdown",
   "metadata": {},
   "source": [
    "Now I would like to check the graphics card"
   ]
  },
  {
   "cell_type": "code",
   "execution_count": 2,
   "metadata": {},
   "outputs": [
    {
     "name": "stdout",
     "output_type": "stream",
     "text": [
      "Tue Oct  8 15:31:04 2024       \n",
      "+-----------------------------------------------------------------------------------------+\n",
      "| NVIDIA-SMI 560.94                 Driver Version: 560.94         CUDA Version: 12.6     |\n",
      "|-----------------------------------------+------------------------+----------------------+\n",
      "| GPU  Name                  Driver-Model | Bus-Id          Disp.A | Volatile Uncorr. ECC |\n",
      "| Fan  Temp   Perf          Pwr:Usage/Cap |           Memory-Usage | GPU-Util  Compute M. |\n",
      "|                                         |                        |               MIG M. |\n",
      "|=========================================+========================+======================|\n",
      "|   0  NVIDIA GeForce GTX 1660 ...  WDDM  |   00000000:01:00.0  On |                  N/A |\n",
      "| N/A   64C    P8              4W /   60W |     365MiB /   6144MiB |     17%      Default |\n",
      "|                                         |                        |                  N/A |\n",
      "+-----------------------------------------+------------------------+----------------------+\n",
      "                                                                                         \n",
      "+-----------------------------------------------------------------------------------------+\n",
      "| Processes:                                                                              |\n",
      "|  GPU   GI   CI        PID   Type   Process name                              GPU Memory |\n",
      "|        ID   ID                                                               Usage      |\n",
      "|=========================================================================================|\n",
      "|    0   N/A  N/A       152    C+G   ...ROGRA~2\\Citrix\\ICACLI~1\\wfica32.exe      N/A      |\n",
      "|    0   N/A  N/A     27424    C+G   ...pplications\\Tryd6\\jre\\bin\\javaw.exe      N/A      |\n",
      "+-----------------------------------------------------------------------------------------+\n"
     ]
    }
   ],
   "source": [
    "!nvidia-smi"
   ]
  },
  {
   "cell_type": "code",
   "execution_count": 3,
   "metadata": {},
   "outputs": [
    {
     "name": "stdout",
     "output_type": "stream",
     "text": [
      "nvcc: NVIDIA (R) Cuda compiler driver\n",
      "Copyright (c) 2005-2024 NVIDIA Corporation\n",
      "Built on Thu_Sep_12_02:55:00_Pacific_Daylight_Time_2024\n",
      "Cuda compilation tools, release 12.6, V12.6.77\n",
      "Build cuda_12.6.r12.6/compiler.34841621_0\n"
     ]
    }
   ],
   "source": [
    "!nvcc --version"
   ]
  },
  {
   "cell_type": "code",
   "execution_count": 4,
   "metadata": {},
   "outputs": [
    {
     "name": "stdout",
     "output_type": "stream",
     "text": [
      "2.4.1+cu124\n",
      "Is CUDA available: True\n"
     ]
    }
   ],
   "source": [
    "import torch\n",
    "print(torch.__version__)\n",
    "print('Is CUDA available: ' + str(torch.cuda.is_available()))"
   ]
  },
  {
   "cell_type": "code",
   "execution_count": 5,
   "metadata": {},
   "outputs": [],
   "source": [
    "import torch\n",
    "import torch.nn as nn\n",
    "import torch.optim as optim\n",
    "\n",
    "import numpy as np\n",
    "\n",
    "from collections import namedtuple\n",
    "from tensorboardX import SummaryWriter\n",
    "from pathlib import Path"
   ]
  },
  {
   "cell_type": "markdown",
   "metadata": {},
   "source": [
    "# CartPole"
   ]
  },
  {
   "cell_type": "markdown",
   "metadata": {},
   "source": [
    "The CartPole is one of the most basic environments available on gymnasium. This environment is well suit suitable to be used on this first example."
   ]
  },
  {
   "cell_type": "code",
   "execution_count": 6,
   "metadata": {},
   "outputs": [
    {
     "data": {
      "text/html": [
       "<video src=\"./videos/demo-cartpole/random-agent-episode-0.mp4\" controls  width=\"350\"  height=\"250\">\n",
       "      Your browser does not support the <code>video</code> element.\n",
       "    </video>"
      ],
      "text/plain": [
       "<IPython.core.display.Video object>"
      ]
     },
     "execution_count": 6,
     "metadata": {},
     "output_type": "execute_result"
    }
   ],
   "source": [
    "import gymnasium as gym\n",
    "from IPython.display import Video\n",
    "\n",
    "\n",
    "def record_video_random_agent(env_name: str, directory: str, video_length=200, width=350, height=250) -> Video:\n",
    "    env = gym.make(env_name, render_mode='rgb_array')\n",
    "    env = gym.wrappers.RecordVideo(env, f'./videos/{directory}', video_length=video_length, name_prefix='random-agent')\n",
    "\n",
    "    env.reset(seed=42)\n",
    "    for _ in range(video_length):\n",
    "        env.step(env.action_space.sample())\n",
    "    env.close()\n",
    "\n",
    "    return Video(f'./videos/{directory}/random-agent-episode-0.mp4', width=width, height=height)\n",
    "\n",
    "\n",
    "\n",
    "record_video_random_agent('CartPole-v1', 'demo-cartpole')"
   ]
  },
  {
   "cell_type": "markdown",
   "metadata": {},
   "source": [
    "This is a video of the cart pole environment being controlled by random actions.<br>\n",
    "This environment consists in a pole being balanced by a cart who can move to left or right to keep the pole in a vertical position.<br>\n",
    "The apisode ends when the pole cross a given angle, or the cart cross the environment boundaries. For every step the agent can keep the pole balanced, it will receive a positive reward.\n",
    "\n",
    "\n",
    "The environment could look simple, but it is a good candidate to implement a reinforcement learning, cross-entropy, model. "
   ]
  },
  {
   "cell_type": "markdown",
   "metadata": {},
   "source": [
    "## Creating the function to yield the batches to train the model"
   ]
  },
  {
   "cell_type": "markdown",
   "metadata": {},
   "source": [
    "This function is used to create the batches of data to train the model. The batches are set by running the Neural Network throught the environment steps, acumulate the rewards and group them in collections to use during the training steps."
   ]
  },
  {
   "cell_type": "code",
   "execution_count": 7,
   "metadata": {},
   "outputs": [],
   "source": [
    "# These named tuples are to store the experience of the agent\n",
    "Episode = namedtuple('Episode', field_names=['reward', 'steps'])\n",
    "EpisodeStep = namedtuple('EpisodeStep', field_names=['observation', 'action'])\n",
    "\n",
    "# this is the function to create the batches\n",
    "def training_batch(env: gym.Env, net: nn.Module, batch_size: int, device: str):\n",
    "    '''\n",
    "    This function will generate a batch of episodes from the environment.\n",
    "    The batch will be of size batch_size.\n",
    "    The neural network nn will be used to generate the actions.\n",
    "    The device will be used to store the tensors.\n",
    "\n",
    "    The function will yield a list of episodes of size batch_size.\n",
    "    '''\n",
    "\n",
    "    softmax = nn.Softmax(dim=1)\n",
    "    batchs = []\n",
    "\n",
    "    while True:\n",
    "        for _ in range(batch_size):\n",
    "            obs,_ = env.reset()\n",
    "\n",
    "            total_reward = 0.0\n",
    "            steps = []\n",
    "\n",
    "            while True:\n",
    "                obs_v = torch.FloatTensor([obs]).to(device)\n",
    "\n",
    "                act_probs_v = softmax(net(obs_v))\n",
    "                act_probs = act_probs_v.data.cpu().numpy()[0]\n",
    "                action = np.random.choice(len(act_probs), p=act_probs)\n",
    "\n",
    "                next_obs, reward, done, truncated, _ = env.step(action)\n",
    "                steps.append(EpisodeStep(observation=obs, action=action))\n",
    "                \n",
    "                obs = next_obs\n",
    "                total_reward += reward\n",
    "\n",
    "                if done or truncated:\n",
    "                    batchs.append(Episode(reward=total_reward, steps=steps))\n",
    "                    break\n",
    "        \n",
    "        yield batchs"
   ]
  },
  {
   "cell_type": "markdown",
   "metadata": {},
   "source": [
    "**Episode**: This tuple was defined to store the information of every episode. So for every run where our neural network is interacting with the environment we are acumulating the data in a instance of this tuple. The 'reward' field receives the total reward obtained during the episode, and the 'steps' field is to store a list of *EpisodeStep*.\n",
    "\n",
    "**EpisodeStep**: This tuple was defined to store the information of a single step from the agent in the environment. So for every step we needs to create a new instance of this tuple to include in the *Episode*. The 'action' field is to store the action from the agent in the step, and the 'observation' field is to store the observation the agend did use to choose the action.\n",
    "\n",
    "> It is important to notice here, the opservation we are includding in the EpisodeStep is the 'obs' the agent did use to choose an action and not the 'next_obs' we receive after the step.\n",
    "\n",
    "**training_batch**: This function has the singlçe objective of run some episodes using the Neural Network agent to choose an action for every step from the episodes. Than it should acumulate the data from the episodes and return it as an yield value. We can use this function to get the batches we need during the training of the agent.\n",
    "\n",
    "> You can see something interesting in the training_batch function. When we are choosing an action to step into the evrironment, we are not using the direct result from the Neural Network, we are using the probabilities generated by the Softmax activation function, and we are using these probabilities to choose a random action based on them. So while the agente is getting more confident to perform an action for a given scenario, this action will have more chances to be the chosen while we keep space for exploration.\n",
    "\n",
    "> Another interesting point is we are using the Softmax outside of the newral network! We are doing it, because we not expecting to use it on our final agent, but it is supporting us to get the probabilities for every action, for every step, during the batch creation.\n",
    "\n",
    "\n",
    "Ok, now we have a way to get batches to use during the training. But we still have to filter the top episodes to discard the ones with a bad performance. This is exactly what we are going to do next!"
   ]
  },
  {
   "cell_type": "markdown",
   "metadata": {},
   "source": [
    "## Filtering the episodes to use for model training (choose the Elite episodes)"
   ]
  },
  {
   "cell_type": "markdown",
   "metadata": {},
   "source": [
    "To ensure our agent will learn on good experences and ignore the bad ones, we have to... we... discard the bad experiences! We are looking for the Elite ones!\n",
    "\n",
    "A technique to filter off the bad experiences is to define a minimun reward for an episode to include it on our training data. But should not be just an abritary value, and it has to adapt for every batch, since the average performance should increace over the time.\n",
    "\n",
    "We can, instead of an abitrary value, organize the rewards in percentiles, and choose only the episodes whos reward is equals or higger than the value related to a given percentile we choose. So with this strategy, the value we use to filter episodes will adapt for every batch."
   ]
  },
  {
   "cell_type": "code",
   "execution_count": 8,
   "metadata": {},
   "outputs": [],
   "source": [
    "def filter_batch(batch: list[Episode], device: str, percentile:int = 70):\n",
    "    '''\n",
    "    This function will filter the batch of episodes.\n",
    "    It will only keep the episodes that have a reward greater than the percentile.\n",
    "    It will return the observations and the actions of the episodes.\n",
    "    '''\n",
    "    rewards = [ e.reward for e in batch ]\n",
    "    reward_bound = np.percentile(rewards, percentile)\n",
    "    reward_mean = float(np.mean(rewards))\n",
    "\n",
    "    train_obs = []\n",
    "    train_act = []\n",
    "\n",
    "    for episode in batch:\n",
    "        if episode.reward <= reward_bound:\n",
    "            continue\n",
    "\n",
    "        train_obs.extend([step.observation for step in episode.steps])\n",
    "        train_act.extend([step.action for step in episode.steps])\n",
    "\n",
    "    train_obs_v = torch.FloatTensor(train_obs).to(device)\n",
    "    train_act_v = torch.LongTensor(train_act).to(device)\n",
    "\n",
    "    return train_obs_v, train_act_v, reward_bound, reward_mean\n"
   ]
  },
  {
   "cell_type": "markdown",
   "metadata": {},
   "source": [
    "Now our function to filter batches is going to find the reward value related to the percentile (70 defined as default), use this percentile to filter episodes, acumulate the opservations and actions and return the observation, action, the reward bound (the reward related to the given percentile) and the reward mean.\n",
    "\n",
    "The reard bound and mean are just for metrics and they don't have any direct impact in the agent itself (well... we are going to use reward mean for early stop)"
   ]
  },
  {
   "cell_type": "markdown",
   "metadata": {},
   "source": [
    "## The Agent (A Neural Network responsible by learn and run the episodes)"
   ]
  },
  {
   "cell_type": "markdown",
   "metadata": {},
   "source": [
    "Now it is time to define our agent! This is basically a neural retwork who is going to learn with experiences and play the episodes of Cart Pole game!"
   ]
  },
  {
   "cell_type": "code",
   "execution_count": 9,
   "metadata": {},
   "outputs": [],
   "source": [
    "class Net(nn.Module):\n",
    "    def __init__(self, obs_size: int, hidden_size: int, n_actions: int):\n",
    "        super(Net, self).__init__()\n",
    "\n",
    "        self.net = nn.Sequential(\n",
    "            nn.Linear(obs_size, hidden_size),\n",
    "            nn.ReLU(),\n",
    "            nn.Linear(hidden_size, n_actions)\n",
    "        )\n",
    "\n",
    "    def forward(self, x):\n",
    "        return self.net(x)"
   ]
  },
  {
   "cell_type": "markdown",
   "metadata": {},
   "source": [
    "This Newral Network is pretty simple (we don't need anything to complex for Cart Pole game), we have 2 linear models, connected by a ReLU activation function.\n",
    "\n",
    "The model definition is arbritary and could be structured in different ways, but this one should work for now."
   ]
  },
  {
   "cell_type": "markdown",
   "metadata": {},
   "source": [
    "# Training the Agent"
   ]
  },
  {
   "cell_type": "markdown",
   "metadata": {},
   "source": [
    "We have now all the pieces we need to start training our agent."
   ]
  },
  {
   "cell_type": "code",
   "execution_count": 10,
   "metadata": {},
   "outputs": [
    {
     "name": "stdout",
     "output_type": "stream",
     "text": [
      "0: loss=0.6996077299118042, reward_bound=26.5, reward_mean=23.6875\n",
      "25: loss=0.6002543568611145, reward_bound=83.0, reward_mean=68.92307692307692\n",
      "50: loss=0.5933823585510254, reward_bound=114.0, reward_mean=95.38602941176471\n",
      "75: loss=0.5868606567382812, reward_bound=141.0, reward_mean=120.33470394736842\n",
      "100: loss=0.5824660062789917, reward_bound=170.0, reward_mean=145.15532178217822\n",
      "125: loss=0.5783938765525818, reward_bound=198.0, reward_mean=169.44444444444446\n",
      "150: loss=0.5759292244911194, reward_bound=227.0, reward_mean=191.08650662251657\n",
      "159: loss=0.5743358731269836, reward_bound=238.0, reward_mean=199.730859375\n",
      "Solved!\n"
     ]
    }
   ],
   "source": [
    "# DEFINE THE HYPERPARAMETERS\n",
    "NN_HIDDEN_SIZE = 128\n",
    "LEARNING_RATE = 0.01\n",
    "BATCH_SIZE = 16\n",
    "\n",
    "# DEFINE THE ENVIRONMENT\n",
    "env = gym.make('CartPole-v1', render_mode='rgb_array')\n",
    "env = gym.wrappers.RecordVideo(env, './videos/training-cartpole', video_length=200, episode_trigger=lambda x: x % 500 == 0)\n",
    "\n",
    "observation_size = env.observation_space.shape[0]\n",
    "action_size = env.action_space.n\n",
    "\n",
    "# DEFINE THE NETWORK\n",
    "net = Net(observation_size, NN_HIDDEN_SIZE, action_size)\n",
    "\n",
    "# DEFINE THE OPTIMIZER\n",
    "optimizer = optim.Adam(net.parameters(), lr=LEARNING_RATE)\n",
    "\n",
    "# DEFINE THE LOSS FUNCTION\n",
    "loss_fn = nn.CrossEntropyLoss()\n",
    "\n",
    "# DEFINE THE DEVICE\n",
    "device = 'cuda' if torch.cuda.is_available() else 'cpu'\n",
    "net.to(device)\n",
    "\n",
    "# DEFINE THE WRITER\n",
    "writer = SummaryWriter(logdir='runs/cart_pole', comment=f'-cartpole-pg')\n",
    "\n",
    "# TRAIN THE AGENT\n",
    "for iter_n, batch in enumerate(training_batch(env, net, BATCH_SIZE, device)):\n",
    "    obs_v, acts_v, reward_b, reward_m = filter_batch(batch, device)\n",
    "\n",
    "    optimizer.zero_grad()\n",
    "    action_scores_v = net(obs_v)\n",
    "    loss_v = loss_fn(action_scores_v, acts_v)\n",
    "    loss_v.backward()\n",
    "    optimizer.step()\n",
    "\n",
    "    if iter_n % 25 == 0:\n",
    "        print(f'{iter_n}: loss={loss_v.item()}, reward_bound={reward_b}, reward_mean={reward_m}')\n",
    "\n",
    "    writer.add_scalar('loss', loss_v.item(), iter_n)\n",
    "    writer.add_scalar('reward_bound', reward_b, iter_n)\n",
    "    writer.add_scalar('reward_mean', reward_m, iter_n)\n",
    "\n",
    "    if reward_m > 199:\n",
    "        print(f'{iter_n}: loss={loss_v.item()}, reward_bound={reward_b}, reward_mean={reward_m}')\n",
    "        print('Solved!')\n",
    "        break\n",
    "\n",
    "env.close()\n",
    "writer.close()"
   ]
  },
  {
   "cell_type": "markdown",
   "metadata": {},
   "source": [
    "Took a while, but we have an Agent who can play the Cart Pole!"
   ]
  },
  {
   "cell_type": "markdown",
   "metadata": {},
   "source": [
    "## Looking the metrics on tensorboad"
   ]
  },
  {
   "cell_type": "markdown",
   "metadata": {},
   "source": [
    "The tensorboard is a tool used to record and read metrics from our models. Let's see our metrics!\n",
    "\n",
    "<img src=\"./prints/tensorboard-cartpole.png\" style=\"width: 1000px\">\n",
    "\n",
    "Using the tensorboard we can see the loss going down and the reward going up (reward is increacing almost linear hahahaha)"
   ]
  },
  {
   "cell_type": "code",
   "execution_count": 11,
   "metadata": {},
   "outputs": [],
   "source": [
    "# saving the model\n",
    "Path('models').mkdir(exist_ok=True)\n",
    "torch.save(net.state_dict(), 'models/cartpole-pg.pth')"
   ]
  },
  {
   "cell_type": "markdown",
   "metadata": {},
   "source": [
    "I'll create a final video of the agent playing the cart pole game!"
   ]
  },
  {
   "cell_type": "code",
   "execution_count": 18,
   "metadata": {},
   "outputs": [
    {
     "data": {
      "text/html": [
       "<video controls  width=\"350\"  height=\"250\">\n",
       " <source src=\"data:video/mp4;base64,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\" type=\"video/mp4\">\n",
       " Your browser does not support the video tag.\n",
       " </video>"
      ],
      "text/plain": [
       "<IPython.core.display.Video object>"
      ]
     },
     "execution_count": 18,
     "metadata": {},
     "output_type": "execute_result"
    }
   ],
   "source": [
    "env = gym.make('CartPole-v1', render_mode='rgb_array')\n",
    "env = gym.wrappers.RecordVideo(env, './videos/final-cartpole', video_length=500)\n",
    "\n",
    "net.load_state_dict(torch.load('models/cartpole-pg.pth'))\n",
    "net.eval()\n",
    "\n",
    "obs,_ = env.reset(seed=40)\n",
    "while True:\n",
    "    obs_v = torch.FloatTensor([obs]).to(device)\n",
    "    action = torch.argmax(net(obs_v)).item()\n",
    "    obs, reward, done, truncated, _ = env.step(action)\n",
    "    if done or truncated:\n",
    "        break\n",
    "\n",
    "env.close()\n",
    "\n",
    "Video('./videos/final-cartpole/rl-video-episode-0.mp4', width=350, height=250, embed=True)"
   ]
  },
  {
   "cell_type": "markdown",
   "metadata": {},
   "source": [
    "The agent is quite good!<br>\n",
    "It will not be able to run indefinidelly (i know, I did test with different seeds ¬¬), since we did limit the episodes to 200 steps, so it is not expecting to deal with what comes next, but as the objective of this repository is to learn the concepts of reinforcement learning, I'm really happy with the results.\n"
   ]
  }
 ],
 "metadata": {
  "kernelspec": {
   "display_name": ".venv",
   "language": "python",
   "name": "python3"
  },
  "language_info": {
   "codemirror_mode": {
    "name": "ipython",
    "version": 3
   },
   "file_extension": ".py",
   "mimetype": "text/x-python",
   "name": "python",
   "nbconvert_exporter": "python",
   "pygments_lexer": "ipython3",
   "version": "3.12.5"
  }
 },
 "nbformat": 4,
 "nbformat_minor": 2
}
